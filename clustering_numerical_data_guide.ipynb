{
 "cells": [
  {
   "cell_type": "markdown",
   "id": "b39d7fb5",
   "metadata": {},
   "source": [
    "# Clustering Numerical Data: A Comprehensive Guide"
   ]
  },
  {
   "cell_type": "markdown",
   "id": "7ff3a587",
   "metadata": {},
   "source": [
    "\n",
    "This notebook provides a comprehensive guide to clustering numerical data using various clustering techniques, including K-Means, Hierarchical Clustering, and DBSCAN. It covers the basic steps in data analysis such as cleaning, normalization, parameter selection, and visualization, as well as various methods for determining optimal parameters.\n"
   ]
  },
  {
   "cell_type": "code",
   "execution_count": null,
   "id": "f6708767",
   "metadata": {},
   "outputs": [],
   "source": [
    "\n",
    "# Importing necessary libraries\n",
    "import pandas as pd\n",
    "import numpy as np\n",
    "from sklearn.preprocessing import StandardScaler\n",
    "from sklearn.cluster import KMeans, DBSCAN, AgglomerativeClustering\n",
    "from sklearn.metrics import silhouette_score, davies_bouldin_score\n",
    "import matplotlib.pyplot as plt\n",
    "import seaborn as sns\n",
    "from sklearn.neighbors import NearestNeighbors\n",
    "\n",
    "# Setting up seaborn for better visualization\n",
    "sns.set(style='whitegrid')\n"
   ]
  },
  {
   "cell_type": "markdown",
   "id": "0bdd5624",
   "metadata": {},
   "source": [
    "## Step 1: Load the Dataset"
   ]
  },
  {
   "cell_type": "code",
   "execution_count": null,
   "id": "8a06d026",
   "metadata": {},
   "outputs": [],
   "source": [
    "\n",
    "# Step 1: Load the dataset\n",
    "def load_data(file_path):\n",
    "    \"\"\"\n",
    "    Load the dataset from a CSV file.\n",
    "    \"\"\"\n",
    "    df = pd.read_csv(file_path)\n",
    "    return df\n",
    "\n",
    "# Example usage (replace 'your_dataset.csv' with the path to your dataset)\n",
    "file_path = 'your_dataset.csv'  # Replace with your dataset path\n",
    "df = load_data(file_path)\n",
    "df.head()\n"
   ]
  },
  {
   "cell_type": "markdown",
   "id": "247c8188",
   "metadata": {},
   "source": [
    "## Step 2: Data Cleaning"
   ]
  },
  {
   "cell_type": "code",
   "execution_count": null,
   "id": "5fc30acd",
   "metadata": {},
   "outputs": [],
   "source": [
    "\n",
    "# Step 2: Data Cleaning\n",
    "def clean_data(df):\n",
    "    \"\"\"\n",
    "    Clean the dataset by handling missing values and dropping irrelevant columns.\n",
    "    \"\"\"\n",
    "    # Dropping columns that are not needed (customize as necessary)\n",
    "    df = df.drop(columns=['Unnamed: 0'], errors='ignore')\n",
    "    \n",
    "    # Handling missing values by filling them with the median\n",
    "    df = df.fillna(df.median())\n",
    "    \n",
    "    return df\n",
    "\n",
    "# Clean the data\n",
    "df = clean_data(df)\n",
    "df.head()\n"
   ]
  },
  {
   "cell_type": "markdown",
   "id": "1090ba61",
   "metadata": {},
   "source": [
    "## Step 3: Data Normalization"
   ]
  },
  {
   "cell_type": "code",
   "execution_count": null,
   "id": "5e8ce5a0",
   "metadata": {},
   "outputs": [],
   "source": [
    "\n",
    "# Step 3: Data Normalization\n",
    "def normalize_data(df):\n",
    "    \"\"\"\n",
    "    Normalize the data to have zero mean and unit variance.\n",
    "    \"\"\"\n",
    "    scaler = StandardScaler()\n",
    "    df_scaled = scaler.fit_transform(df)\n",
    "    return df_scaled\n",
    "\n",
    "# Choose features for clustering\n",
    "features = df.select_dtypes(include=[np.number]).columns  # Use numerical columns only\n",
    "df_features = df[features]\n",
    "\n",
    "# Normalize the data\n",
    "df_scaled = normalize_data(df_features)\n"
   ]
  },
  {
   "cell_type": "markdown",
   "id": "9b19d25b",
   "metadata": {},
   "source": [
    "## Step 4: Clustering Methods"
   ]
  },
  {
   "cell_type": "markdown",
   "id": "7b8d59a4",
   "metadata": {},
   "source": [
    "### 4.1 K-Means Clustering"
   ]
  },
  {
   "cell_type": "code",
   "execution_count": null,
   "id": "10d92af2",
   "metadata": {},
   "outputs": [],
   "source": [
    "\n",
    "# Step 4: K-Means Clustering\n",
    "def kmeans_clustering(data, n_clusters):\n",
    "    \"\"\"\n",
    "    Perform K-Means clustering.\n",
    "    \"\"\"\n",
    "    kmeans = KMeans(n_clusters=n_clusters, random_state=42)\n",
    "    labels = kmeans.fit_predict(data)\n",
    "    return labels, kmeans.inertia_\n",
    "\n",
    "# Example K-Means Clustering\n",
    "kmeans_labels, kmeans_inertia = kmeans_clustering(df_scaled, n_clusters=3)\n"
   ]
  },
  {
   "cell_type": "markdown",
   "id": "61337e28",
   "metadata": {},
   "source": [
    "### 4.2 Hierarchical Clustering"
   ]
  },
  {
   "cell_type": "code",
   "execution_count": null,
   "id": "69f05ea5",
   "metadata": {},
   "outputs": [],
   "source": [
    "\n",
    "# Step 5: Hierarchical Clustering\n",
    "def hierarchical_clustering(data, n_clusters):\n",
    "    \"\"\"\n",
    "    Perform Agglomerative hierarchical clustering.\n",
    "    \"\"\"\n",
    "    hc = AgglomerativeClustering(n_clusters=n_clusters, linkage='ward')\n",
    "    labels = hc.fit_predict(data)\n",
    "    return labels\n",
    "\n",
    "# Example Hierarchical Clustering\n",
    "hc_labels = hierarchical_clustering(df_scaled, n_clusters=3)\n"
   ]
  },
  {
   "cell_type": "markdown",
   "id": "304b4093",
   "metadata": {},
   "source": [
    "### 4.3 DBSCAN Clustering"
   ]
  },
  {
   "cell_type": "code",
   "execution_count": null,
   "id": "2e2d757b",
   "metadata": {},
   "outputs": [],
   "source": [
    "\n",
    "# Step 6: DBSCAN Clustering\n",
    "def dbscan_clustering(data, eps, min_samples):\n",
    "    \"\"\"\n",
    "    Perform DBSCAN clustering.\n",
    "    \"\"\"\n",
    "    dbscan = DBSCAN(eps=eps, min_samples=min_samples)\n",
    "    labels = dbscan.fit_predict(data)\n",
    "    return labels\n",
    "\n",
    "# Example DBSCAN Clustering\n",
    "dbscan_labels = dbscan_clustering(df_scaled, eps=0.5, min_samples=5)\n"
   ]
  },
  {
   "cell_type": "markdown",
   "id": "31728b5b",
   "metadata": {},
   "source": [
    "## Step 5: Evaluation Metrics"
   ]
  },
  {
   "cell_type": "code",
   "execution_count": null,
   "id": "8914534f",
   "metadata": {},
   "outputs": [],
   "source": [
    "\n",
    "# Step 7: Evaluation Metrics\n",
    "def evaluate_clustering(data, labels):\n",
    "    \"\"\"\n",
    "    Evaluate the clustering results using Silhouette Score and Davies-Bouldin Index.\n",
    "    \"\"\"\n",
    "    if len(set(labels)) > 1:  # At least 2 clusters are needed for silhouette score\n",
    "        silhouette = silhouette_score(data, labels)\n",
    "        db_score = davies_bouldin_score(data, labels)\n",
    "    else:\n",
    "        silhouette = np.nan\n",
    "        db_score = np.nan\n",
    "    \n",
    "    return silhouette, db_score\n",
    "\n",
    "# Evaluation Example\n",
    "kmeans_silhouette, kmeans_db_score = evaluate_clustering(df_scaled, kmeans_labels)\n",
    "hc_silhouette, hc_db_score = evaluate_clustering(df_scaled, hc_labels)\n",
    "dbscan_silhouette, dbscan_db_score = evaluate_clustering(df_scaled, dbscan_labels)\n",
    "\n",
    "print(f'K-Means: Silhouette Score = {kmeans_silhouette:.2f}, Davies-Bouldin Score = {kmeans_db_score:.2f}')\n",
    "print(f'Hierarchical: Silhouette Score = {hc_silhouette:.2f}, Davies-Bouldin Score = {hc_db_score:.2f}')\n",
    "print(f'DBSCAN: Silhouette Score = {dbscan_silhouette:.2f}, Davies-Bouldin Score = {dbscan_db_score:.2f}')\n"
   ]
  },
  {
   "cell_type": "markdown",
   "id": "b7a6df34",
   "metadata": {},
   "source": [
    "## Step 6: Visualization of Clustering Results"
   ]
  },
  {
   "cell_type": "code",
   "execution_count": null,
   "id": "1ea4238e",
   "metadata": {},
   "outputs": [],
   "source": [
    "\n",
    "# Step 8: Visualization of Clustering Results\n",
    "def plot_clusters(data, labels, title):\n",
    "    \"\"\"\n",
    "    Visualize the clustering results using a scatter plot.\n",
    "    \"\"\"\n",
    "    plt.figure(figsize=(8, 6))\n",
    "    sns.scatterplot(x=data[:, 0], y=data[:, 1], hue=labels, palette='viridis', legend='full')\n",
    "    plt.title(title)\n",
    "    plt.xlabel('Feature 1')\n",
    "    plt.ylabel('Feature 2')\n",
    "    plt.legend()\n",
    "    plt.show()\n",
    "\n",
    "# Plotting the results\n",
    "plot_clusters(df_scaled, kmeans_labels, 'K-Means Clustering')\n",
    "plot_clusters(df_scaled, hc_labels, 'Hierarchical Clustering')\n",
    "plot_clusters(df_scaled, dbscan_labels, 'DBSCAN Clustering')\n"
   ]
  },
  {
   "cell_type": "markdown",
   "id": "6ebc04d3",
   "metadata": {},
   "source": [
    "## Step 7: Methods for Choosing Parameters"
   ]
  },
  {
   "cell_type": "markdown",
   "id": "67203215",
   "metadata": {},
   "source": [
    "### 7.1 Elbow Method for K-Means"
   ]
  },
  {
   "cell_type": "code",
   "execution_count": null,
   "id": "d87379be",
   "metadata": {},
   "outputs": [],
   "source": [
    "\n",
    "def plot_elbow_method(data, max_clusters=10):\n",
    "    \"\"\"\n",
    "    Plot the Elbow Method to determine the optimal number of clusters for K-Means.\n",
    "    \"\"\"\n",
    "    inertias = []\n",
    "    for n in range(1, max_clusters + 1):\n",
    "        kmeans = KMeans(n_clusters=n, random_state=42)\n",
    "        kmeans.fit(data)\n",
    "        inertias.append(kmeans.inertia_)\n",
    "    \n",
    "    plt.figure(figsize=(8, 6))\n",
    "    plt.plot(range(1, max_clusters + 1), inertias, marker='o')\n",
    "    plt.title('Elbow Method for K-Means')\n",
    "    plt.xlabel('Number of Clusters')\n",
    "    plt.ylabel('Inertia')\n",
    "    plt.show()\n",
    "\n",
    "# Call the Elbow Method plot\n",
    "plot_elbow_method(df_scaled, max_clusters=10)\n"
   ]
  },
  {
   "cell_type": "markdown",
   "id": "d8d1f4b9",
   "metadata": {},
   "source": [
    "### 7.2 Silhouette Analysis for K-Means"
   ]
  },
  {
   "cell_type": "code",
   "execution_count": null,
   "id": "c1d16c1b",
   "metadata": {},
   "outputs": [],
   "source": [
    "\n",
    "def plot_silhouette_analysis(data, max_clusters=10):\n",
    "    \"\"\"\n",
    "    Plot Silhouette Scores for different numbers of clusters to determine the optimal number.\n",
    "    \"\"\"\n",
    "    silhouette_scores = []\n",
    "    for n in range(2, max_clusters + 1):\n",
    "        kmeans = KMeans(n_clusters=n, random_state=42)\n",
    "        labels = kmeans.fit_predict(data)\n",
    "        silhouette_scores.append(silhouette_score(data, labels))\n",
    "    \n",
    "    plt.figure(figsize=(8, 6))\n",
    "    plt.plot(range(2, max_clusters + 1), silhouette_scores, marker='o')\n",
    "    plt.title('Silhouette Analysis for K-Means')\n",
    "    plt.xlabel('Number of Clusters')\n",
    "    plt.ylabel('Silhouette Score')\n",
    "    plt.show()\n",
    "\n",
    "# Call the Silhouette Analysis plot\n",
    "plot_silhouette_analysis(df_scaled, max_clusters=10)\n"
   ]
  },
  {
   "cell_type": "markdown",
   "id": "6e67f026",
   "metadata": {},
   "source": [
    "### 7.3 k-Nearest Neighbors Distance Plot for DBSCAN"
   ]
  },
  {
   "cell_type": "code",
   "execution_count": null,
   "id": "b2952e30",
   "metadata": {},
   "outputs": [],
   "source": [
    "\n",
    "def plot_k_distance(data, min_samples):\n",
    "    \"\"\"\n",
    "    Plot k-nearest neighbors distances to help find the optimal eps value for DBSCAN.\n",
    "    \"\"\"\n",
    "    neigh = NearestNeighbors(n_neighbors=min_samples)\n",
    "    nbrs = neigh.fit(data)\n",
    "    distances, indices = nbrs.kneighbors(data)\n",
    "    \n",
    "    # Sort distances and plot\n",
    "    sorted_distances = np.sort(distances[:, min_samples - 1])\n",
    "    plt.figure(figsize=(8, 6))\n",
    "    plt.plot(sorted_distances)\n",
    "    plt.title(f'k-Distance Plot for DBSCAN (min_samples={min_samples})')\n",
    "    plt.xlabel('Data Points (sorted)')\n",
    "    plt.ylabel(f'{min_samples}-Nearest Neighbor Distance')\n",
    "    plt.show()\n",
    "\n",
    "# Call the k-distance plot\n",
    "plot_k_distance(df_scaled, min_samples=5)\n"
   ]
  }
 ],
 "metadata": {},
 "nbformat": 4,
 "nbformat_minor": 5
}
